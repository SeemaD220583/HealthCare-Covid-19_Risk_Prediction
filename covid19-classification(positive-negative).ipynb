{
 "cells": [
  {
   "cell_type": "markdown",
   "metadata": {},
   "source": [
    "# Risk Analysis of Covid19 Virus\n",
    "As the outbreak of coronavirus disease 2019 (COVID-19) progresses, epidemiological data are needed to guide situational awareness and intervention strategies. The enormous impact of the COVID-19 pandemic is obvious. What many still haven’t realized, however, is that the impact on ongoing data science production setups has been dramatic, too. Artificial Intelligence is actively used in identifying high risk patients at an earlier stage and therefore helps to control the spread of the infection in real-time. This becomes particularly important at this time of crisis because real time monitoring is the best option for people to self-isolate and mitigate the spread of the virus."
   ]
  },
  {
   "cell_type": "markdown",
   "metadata": {},
   "source": [
    "Objective: This is an open-research project that a healthcare institute will use to determine the risk factor of second-level contacts traced for a COVID19 Positive patient. This study will also lead to deciding which all factors should be considered for a healthcare institute to open a dedicated testing-quarantine labs and/or predict the possibility of a zone turning into a hotspot."
   ]
  },
  {
   "cell_type": "code",
   "execution_count": 3,
   "metadata": {},
   "outputs": [
    {
     "name": "stderr",
     "output_type": "stream",
     "text": [
      "D:\\anaconda\\lib\\site-packages\\statsmodels\\tools\\_testing.py:19: FutureWarning: pandas.util.testing is deprecated. Use the functions in the public API at pandas.testing instead.\n",
      "  import pandas.util.testing as tm\n"
     ]
    }
   ],
   "source": [
    "#Importing the required libraries\n",
    "import pandas as pd\n",
    "import numpy as np\n",
    "\n",
    "#visualisation library\n",
    "import matplotlib.pyplot as plt\n",
    "import seaborn as sns\n",
    "\n",
    "#library for machine learning algorithm\n",
    "from imblearn.ensemble import BalancedBaggingClassifier\n",
    "from sklearn.compose import ColumnTransformer\n",
    "from sklearn.model_selection import train_test_split,cross_val_score,GridSearchCV\n",
    "from sklearn.pipeline import Pipeline\n",
    "from sklearn.preprocessing import OrdinalEncoder, StandardScaler,MinMaxScaler,RobustScaler,LabelEncoder\n",
    "from sklearn.tree import DecisionTreeClassifier\n",
    "from sklearn.linear_model import LogisticRegression\n",
    "from sklearn.metrics import accuracy_score,confusion_matrix,classification_report\n",
    "from sklearn.ensemble import ExtraTreesRegressor,RandomForestClassifier,GradientBoostingClassifier\n",
    "\n",
    "#disable warnings\n",
    "import warnings\n",
    "warnings.filterwarnings('ignore')\n",
    "\n",
    "#Operating System,pickle\n",
    "import os\n",
    "import pickle"
   ]
  },
  {
   "cell_type": "markdown",
   "metadata": {},
   "source": [
    "# 1. Data Collection:Get the data from APIs"
   ]
  },
  {
   "cell_type": "markdown",
   "metadata": {},
   "source": [
    "Data has been collected by Tanmoy Mukherjee (https://www.kaggle.com/tanmoyx).Dataset has been taken from kaggle with URL as: https://www.kaggle.com/tanmoyx/covid19-patient-precondition-dataset?select=covid.csv .\n",
    "Data is being collected by the Mexican goverment, it contains a large number of anonymised patient-related  information such as pre-existing conditions, gender, age, symptom date and entry date. The data contains patient information around the world.\n",
    "\n",
    "Feature Set:\n",
    "he data set contains 993,197 records, the data dictionary is provided as below:\n",
    "\n",
    "1. id: The identification number of the patient.\n",
    "\n",
    "2. sex: Identify gender of the patient, 1 as female and 2 as male.\n",
    "\n",
    "3. patient_type: Type of patient, 1 for not hospitalized and 2 for hosptalized.\n",
    "\n",
    "4. entry_date: The date that the patient went to the hospital.\n",
    "\n",
    "5. date_symptoms: The date that the patient started to show symptoms.\n",
    "\n",
    "6. date_died: The date that the patient died, \"9999-99-99\" stands for recovered.\n",
    "\n",
    "7. intubed: Intubation is a procedure that's used when you can't breathe on your own. Your doctor puts a tube down your throat and into your windpipe to make it easier to get air into and out of your lungs. A machine called a ventilator pumps in air with extra oxygen. Then it helps you breathe out air that’s full of carbon dioxide (CO2). \"1\" denotes that the patient used ventilator and \"2\" denotes that the patient did not, \"97\" \"98\" \"99\" means not specified.\n",
    "\n",
    "8. pneumonia: Indicates whether the patient already have air sacs inflammation or not \"1\" for yes, \"2\" for no, \"97\" \"98\" \"99\" means not specified.\n",
    "\n",
    "9. age: Specifies the age of the patient.\n",
    "\n",
    "10. pregnancy: Indicates whether the patient is pregnant or not, \"1\" for yes, \"2\" for no, \"97\" \"98\" \"99\" means not specified.\n",
    "\n",
    "11. diabetes: Indicates whether the patient has diabetes or not, \"1\" for yes, \"2\" for no, \"97\" \"98\" \"99\" means not specified.\n",
    "\n",
    "12. copd: Indicates whether the patient has Chronic obstructive pulmonary disease (COPD) or not, \"1\" for yes, \"2\" for no, \"97\" \"98\" \"99\" means not specified.\n",
    "\n",
    "13. asthma: Indiactes whether the patient has asthma or not, \"1\" for yes, \"2\" for no, \"97\" \"98\" \"99\" means not specified.\n",
    "\n",
    "14. inmsupr: Indicates whether the patient is immunosuppressed or not, \"1\" for yes, \"2\" for no, \"97\" \"98\" \"99\" means not specified.\n",
    "\n",
    "15. hypertension: Indicates whether the patient has hypertension or not, \"1\" for yes, \"2\" for no, \"97\" \"98\" \"99\" means not specified.\n",
    "\n",
    "16. other_disease: Indicates whether the patient has other disease or not, \"1\" for yes, \"2\" for no, \"97\" \"98\" \"99\" means not specified.\n",
    "\n",
    "17. cardiovascular: Indicates whether if the patient has heart or blood vessels realted disease, \"1\" for yes, \"2\" for no, \"97\" \"98\" \"99\" means not specified.\n",
    "\n",
    "18. obesity: Indicates whether the patient is obese or not,  \"1\" for yes, \"2\" for no, \"97\" \"98\" \"99\" means not specified.\n",
    "\n",
    "19. renal_chronic: Indicates whether the patient has chronic renal disease or not,  \"1\" for yes, \"2\" for no, \"97\" \"98\" \"99\" means not specified.\n",
    "\n",
    "20. tobacco: Indicates whether if the patient is a tobacco user, \"1\" for yes, \"2\" for no, \"97\" \"98\" \"99\" means not specified.\n",
    "\n",
    "21. contact_other_covid: Indicates whether if the patient has contacted another covid19 patient.\n",
    "\n",
    "22. covid_res: RESULT Identifies the result of the analysis of the sample reported by the laboratory of the National Network of Epidemiological Surveillance Laboratories (INDRE, LESP and LAVE). ( \"1\" for positive,\"2\" for negative, \"3\" for result is pending.\n",
    "\n",
    "22. icu: Indicates whether the if the patient had been admitted to an Intensive Care Unit (ICU), \"1\" for yes, \"2\" for no, \"97\" \"98\" \"99\" means not specified.\n"
   ]
  },
  {
   "cell_type": "code",
   "execution_count": 4,
   "metadata": {},
   "outputs": [],
   "source": [
    "current_path = os.getcwd()\n",
    "assets_path = os.path.join(current_path, \"assets\")\n",
    "data_path= os.path.join(assets_path, \"covid.csv\")\n",
    "df=pd.read_csv(data_path)"
   ]
  },
  {
   "cell_type": "code",
   "execution_count": 5,
   "metadata": {},
   "outputs": [
    {
     "name": "stdout",
     "output_type": "stream",
     "text": [
      "<class 'pandas.core.frame.DataFrame'>\n",
      "RangeIndex: 566602 entries, 0 to 566601\n",
      "Data columns (total 23 columns):\n",
      " #   Column               Non-Null Count   Dtype \n",
      "---  ------               --------------   ----- \n",
      " 0   id                   566602 non-null  object\n",
      " 1   sex                  566602 non-null  int64 \n",
      " 2   patient_type         566602 non-null  int64 \n",
      " 3   entry_date           566602 non-null  object\n",
      " 4   date_symptoms        566602 non-null  object\n",
      " 5   date_died            566602 non-null  object\n",
      " 6   intubed              566602 non-null  int64 \n",
      " 7   pneumonia            566602 non-null  int64 \n",
      " 8   age                  566602 non-null  int64 \n",
      " 9   pregnancy            566602 non-null  int64 \n",
      " 10  diabetes             566602 non-null  int64 \n",
      " 11  copd                 566602 non-null  int64 \n",
      " 12  asthma               566602 non-null  int64 \n",
      " 13  inmsupr              566602 non-null  int64 \n",
      " 14  hypertension         566602 non-null  int64 \n",
      " 15  other_disease        566602 non-null  int64 \n",
      " 16  cardiovascular       566602 non-null  int64 \n",
      " 17  obesity              566602 non-null  int64 \n",
      " 18  renal_chronic        566602 non-null  int64 \n",
      " 19  tobacco              566602 non-null  int64 \n",
      " 20  contact_other_covid  566602 non-null  int64 \n",
      " 21  covid_res            566602 non-null  int64 \n",
      " 22  icu                  566602 non-null  int64 \n",
      "dtypes: int64(19), object(4)\n",
      "memory usage: 90.8+ MB\n"
     ]
    }
   ],
   "source": [
    "df.info()"
   ]
  },
  {
   "cell_type": "code",
   "execution_count": 28,
   "metadata": {},
   "outputs": [
    {
     "data": {
      "text/html": [
       "<div>\n",
       "<style scoped>\n",
       "    .dataframe tbody tr th:only-of-type {\n",
       "        vertical-align: middle;\n",
       "    }\n",
       "\n",
       "    .dataframe tbody tr th {\n",
       "        vertical-align: top;\n",
       "    }\n",
       "\n",
       "    .dataframe thead th {\n",
       "        text-align: right;\n",
       "    }\n",
       "</style>\n",
       "<table border=\"1\" class=\"dataframe\">\n",
       "  <thead>\n",
       "    <tr style=\"text-align: right;\">\n",
       "      <th></th>\n",
       "      <th>count</th>\n",
       "      <th>mean</th>\n",
       "      <th>std</th>\n",
       "      <th>min</th>\n",
       "      <th>25%</th>\n",
       "      <th>50%</th>\n",
       "      <th>75%</th>\n",
       "      <th>max</th>\n",
       "    </tr>\n",
       "  </thead>\n",
       "  <tbody>\n",
       "    <tr>\n",
       "      <th>sex</th>\n",
       "      <td>566602.0</td>\n",
       "      <td>1.506726</td>\n",
       "      <td>0.499955</td>\n",
       "      <td>1.0</td>\n",
       "      <td>1.0</td>\n",
       "      <td>2.0</td>\n",
       "      <td>2.0</td>\n",
       "      <td>2.0</td>\n",
       "    </tr>\n",
       "    <tr>\n",
       "      <th>patient_type</th>\n",
       "      <td>566602.0</td>\n",
       "      <td>1.215165</td>\n",
       "      <td>0.410937</td>\n",
       "      <td>1.0</td>\n",
       "      <td>1.0</td>\n",
       "      <td>1.0</td>\n",
       "      <td>1.0</td>\n",
       "      <td>2.0</td>\n",
       "    </tr>\n",
       "    <tr>\n",
       "      <th>intubed</th>\n",
       "      <td>566602.0</td>\n",
       "      <td>76.562952</td>\n",
       "      <td>39.058676</td>\n",
       "      <td>1.0</td>\n",
       "      <td>97.0</td>\n",
       "      <td>97.0</td>\n",
       "      <td>97.0</td>\n",
       "      <td>99.0</td>\n",
       "    </tr>\n",
       "    <tr>\n",
       "      <th>pneumonia</th>\n",
       "      <td>566602.0</td>\n",
       "      <td>1.846262</td>\n",
       "      <td>0.560939</td>\n",
       "      <td>1.0</td>\n",
       "      <td>2.0</td>\n",
       "      <td>2.0</td>\n",
       "      <td>2.0</td>\n",
       "      <td>99.0</td>\n",
       "    </tr>\n",
       "    <tr>\n",
       "      <th>age</th>\n",
       "      <td>566602.0</td>\n",
       "      <td>42.622483</td>\n",
       "      <td>16.659973</td>\n",
       "      <td>0.0</td>\n",
       "      <td>31.0</td>\n",
       "      <td>41.0</td>\n",
       "      <td>53.0</td>\n",
       "      <td>120.0</td>\n",
       "    </tr>\n",
       "    <tr>\n",
       "      <th>pregnancy</th>\n",
       "      <td>566602.0</td>\n",
       "      <td>50.400692</td>\n",
       "      <td>47.501579</td>\n",
       "      <td>1.0</td>\n",
       "      <td>2.0</td>\n",
       "      <td>97.0</td>\n",
       "      <td>97.0</td>\n",
       "      <td>98.0</td>\n",
       "    </tr>\n",
       "    <tr>\n",
       "      <th>diabetes</th>\n",
       "      <td>566602.0</td>\n",
       "      <td>2.210633</td>\n",
       "      <td>5.683523</td>\n",
       "      <td>1.0</td>\n",
       "      <td>2.0</td>\n",
       "      <td>2.0</td>\n",
       "      <td>2.0</td>\n",
       "      <td>98.0</td>\n",
       "    </tr>\n",
       "    <tr>\n",
       "      <th>copd</th>\n",
       "      <td>566602.0</td>\n",
       "      <td>2.280221</td>\n",
       "      <td>5.327832</td>\n",
       "      <td>1.0</td>\n",
       "      <td>2.0</td>\n",
       "      <td>2.0</td>\n",
       "      <td>2.0</td>\n",
       "      <td>98.0</td>\n",
       "    </tr>\n",
       "    <tr>\n",
       "      <th>asthma</th>\n",
       "      <td>566602.0</td>\n",
       "      <td>2.265029</td>\n",
       "      <td>5.334658</td>\n",
       "      <td>1.0</td>\n",
       "      <td>2.0</td>\n",
       "      <td>2.0</td>\n",
       "      <td>2.0</td>\n",
       "      <td>98.0</td>\n",
       "    </tr>\n",
       "    <tr>\n",
       "      <th>inmsupr</th>\n",
       "      <td>566602.0</td>\n",
       "      <td>2.319628</td>\n",
       "      <td>5.667381</td>\n",
       "      <td>1.0</td>\n",
       "      <td>2.0</td>\n",
       "      <td>2.0</td>\n",
       "      <td>2.0</td>\n",
       "      <td>98.0</td>\n",
       "    </tr>\n",
       "    <tr>\n",
       "      <th>hypertension</th>\n",
       "      <td>566602.0</td>\n",
       "      <td>2.145774</td>\n",
       "      <td>5.459866</td>\n",
       "      <td>1.0</td>\n",
       "      <td>2.0</td>\n",
       "      <td>2.0</td>\n",
       "      <td>2.0</td>\n",
       "      <td>98.0</td>\n",
       "    </tr>\n",
       "    <tr>\n",
       "      <th>other_disease</th>\n",
       "      <td>566602.0</td>\n",
       "      <td>2.410030</td>\n",
       "      <td>6.489959</td>\n",
       "      <td>1.0</td>\n",
       "      <td>2.0</td>\n",
       "      <td>2.0</td>\n",
       "      <td>2.0</td>\n",
       "      <td>98.0</td>\n",
       "    </tr>\n",
       "    <tr>\n",
       "      <th>cardiovascular</th>\n",
       "      <td>566602.0</td>\n",
       "      <td>2.286157</td>\n",
       "      <td>5.438405</td>\n",
       "      <td>1.0</td>\n",
       "      <td>2.0</td>\n",
       "      <td>2.0</td>\n",
       "      <td>2.0</td>\n",
       "      <td>98.0</td>\n",
       "    </tr>\n",
       "    <tr>\n",
       "      <th>obesity</th>\n",
       "      <td>566602.0</td>\n",
       "      <td>2.138905</td>\n",
       "      <td>5.395578</td>\n",
       "      <td>1.0</td>\n",
       "      <td>2.0</td>\n",
       "      <td>2.0</td>\n",
       "      <td>2.0</td>\n",
       "      <td>98.0</td>\n",
       "    </tr>\n",
       "    <tr>\n",
       "      <th>renal_chronic</th>\n",
       "      <td>566602.0</td>\n",
       "      <td>2.283765</td>\n",
       "      <td>5.393232</td>\n",
       "      <td>1.0</td>\n",
       "      <td>2.0</td>\n",
       "      <td>2.0</td>\n",
       "      <td>2.0</td>\n",
       "      <td>98.0</td>\n",
       "    </tr>\n",
       "    <tr>\n",
       "      <th>tobacco</th>\n",
       "      <td>566602.0</td>\n",
       "      <td>2.238360</td>\n",
       "      <td>5.571901</td>\n",
       "      <td>1.0</td>\n",
       "      <td>2.0</td>\n",
       "      <td>2.0</td>\n",
       "      <td>2.0</td>\n",
       "      <td>98.0</td>\n",
       "    </tr>\n",
       "    <tr>\n",
       "      <th>contact_other_covid</th>\n",
       "      <td>566602.0</td>\n",
       "      <td>31.573034</td>\n",
       "      <td>45.082123</td>\n",
       "      <td>1.0</td>\n",
       "      <td>1.0</td>\n",
       "      <td>2.0</td>\n",
       "      <td>99.0</td>\n",
       "      <td>99.0</td>\n",
       "    </tr>\n",
       "    <tr>\n",
       "      <th>covid_res</th>\n",
       "      <td>566602.0</td>\n",
       "      <td>1.728651</td>\n",
       "      <td>0.658710</td>\n",
       "      <td>1.0</td>\n",
       "      <td>1.0</td>\n",
       "      <td>2.0</td>\n",
       "      <td>2.0</td>\n",
       "      <td>3.0</td>\n",
       "    </tr>\n",
       "    <tr>\n",
       "      <th>icu</th>\n",
       "      <td>566602.0</td>\n",
       "      <td>76.562864</td>\n",
       "      <td>39.059060</td>\n",
       "      <td>1.0</td>\n",
       "      <td>97.0</td>\n",
       "      <td>97.0</td>\n",
       "      <td>97.0</td>\n",
       "      <td>99.0</td>\n",
       "    </tr>\n",
       "  </tbody>\n",
       "</table>\n",
       "</div>"
      ],
      "text/plain": [
       "                        count       mean        std  min   25%   50%   75%  \\\n",
       "sex                  566602.0   1.506726   0.499955  1.0   1.0   2.0   2.0   \n",
       "patient_type         566602.0   1.215165   0.410937  1.0   1.0   1.0   1.0   \n",
       "intubed              566602.0  76.562952  39.058676  1.0  97.0  97.0  97.0   \n",
       "pneumonia            566602.0   1.846262   0.560939  1.0   2.0   2.0   2.0   \n",
       "age                  566602.0  42.622483  16.659973  0.0  31.0  41.0  53.0   \n",
       "pregnancy            566602.0  50.400692  47.501579  1.0   2.0  97.0  97.0   \n",
       "diabetes             566602.0   2.210633   5.683523  1.0   2.0   2.0   2.0   \n",
       "copd                 566602.0   2.280221   5.327832  1.0   2.0   2.0   2.0   \n",
       "asthma               566602.0   2.265029   5.334658  1.0   2.0   2.0   2.0   \n",
       "inmsupr              566602.0   2.319628   5.667381  1.0   2.0   2.0   2.0   \n",
       "hypertension         566602.0   2.145774   5.459866  1.0   2.0   2.0   2.0   \n",
       "other_disease        566602.0   2.410030   6.489959  1.0   2.0   2.0   2.0   \n",
       "cardiovascular       566602.0   2.286157   5.438405  1.0   2.0   2.0   2.0   \n",
       "obesity              566602.0   2.138905   5.395578  1.0   2.0   2.0   2.0   \n",
       "renal_chronic        566602.0   2.283765   5.393232  1.0   2.0   2.0   2.0   \n",
       "tobacco              566602.0   2.238360   5.571901  1.0   2.0   2.0   2.0   \n",
       "contact_other_covid  566602.0  31.573034  45.082123  1.0   1.0   2.0  99.0   \n",
       "covid_res            566602.0   1.728651   0.658710  1.0   1.0   2.0   2.0   \n",
       "icu                  566602.0  76.562864  39.059060  1.0  97.0  97.0  97.0   \n",
       "\n",
       "                       max  \n",
       "sex                    2.0  \n",
       "patient_type           2.0  \n",
       "intubed               99.0  \n",
       "pneumonia             99.0  \n",
       "age                  120.0  \n",
       "pregnancy             98.0  \n",
       "diabetes              98.0  \n",
       "copd                  98.0  \n",
       "asthma                98.0  \n",
       "inmsupr               98.0  \n",
       "hypertension          98.0  \n",
       "other_disease         98.0  \n",
       "cardiovascular        98.0  \n",
       "obesity               98.0  \n",
       "renal_chronic         98.0  \n",
       "tobacco               98.0  \n",
       "contact_other_covid   99.0  \n",
       "covid_res              3.0  \n",
       "icu                   99.0  "
      ]
     },
     "execution_count": 28,
     "metadata": {},
     "output_type": "execute_result"
    }
   ],
   "source": [
    "df.describe().T"
   ]
  },
  {
   "cell_type": "code",
   "execution_count": 6,
   "metadata": {},
   "outputs": [
    {
     "data": {
      "text/html": [
       "<div>\n",
       "<style scoped>\n",
       "    .dataframe tbody tr th:only-of-type {\n",
       "        vertical-align: middle;\n",
       "    }\n",
       "\n",
       "    .dataframe tbody tr th {\n",
       "        vertical-align: top;\n",
       "    }\n",
       "\n",
       "    .dataframe thead th {\n",
       "        text-align: right;\n",
       "    }\n",
       "</style>\n",
       "<table border=\"1\" class=\"dataframe\">\n",
       "  <thead>\n",
       "    <tr style=\"text-align: right;\">\n",
       "      <th></th>\n",
       "      <th>id</th>\n",
       "      <th>sex</th>\n",
       "      <th>patient_type</th>\n",
       "      <th>entry_date</th>\n",
       "      <th>date_symptoms</th>\n",
       "      <th>date_died</th>\n",
       "      <th>intubed</th>\n",
       "      <th>pneumonia</th>\n",
       "      <th>age</th>\n",
       "      <th>pregnancy</th>\n",
       "      <th>...</th>\n",
       "      <th>inmsupr</th>\n",
       "      <th>hypertension</th>\n",
       "      <th>other_disease</th>\n",
       "      <th>cardiovascular</th>\n",
       "      <th>obesity</th>\n",
       "      <th>renal_chronic</th>\n",
       "      <th>tobacco</th>\n",
       "      <th>contact_other_covid</th>\n",
       "      <th>covid_res</th>\n",
       "      <th>icu</th>\n",
       "    </tr>\n",
       "  </thead>\n",
       "  <tbody>\n",
       "    <tr>\n",
       "      <th>0</th>\n",
       "      <td>16169f</td>\n",
       "      <td>2</td>\n",
       "      <td>1</td>\n",
       "      <td>04/05/2020</td>\n",
       "      <td>02/05/2020</td>\n",
       "      <td>9999-99-99</td>\n",
       "      <td>97</td>\n",
       "      <td>2</td>\n",
       "      <td>27</td>\n",
       "      <td>97</td>\n",
       "      <td>...</td>\n",
       "      <td>2</td>\n",
       "      <td>2</td>\n",
       "      <td>2</td>\n",
       "      <td>2</td>\n",
       "      <td>2</td>\n",
       "      <td>2</td>\n",
       "      <td>2</td>\n",
       "      <td>2</td>\n",
       "      <td>1</td>\n",
       "      <td>97</td>\n",
       "    </tr>\n",
       "    <tr>\n",
       "      <th>1</th>\n",
       "      <td>1009bf</td>\n",
       "      <td>2</td>\n",
       "      <td>1</td>\n",
       "      <td>19/03/2020</td>\n",
       "      <td>17/03/2020</td>\n",
       "      <td>9999-99-99</td>\n",
       "      <td>97</td>\n",
       "      <td>2</td>\n",
       "      <td>24</td>\n",
       "      <td>97</td>\n",
       "      <td>...</td>\n",
       "      <td>2</td>\n",
       "      <td>2</td>\n",
       "      <td>2</td>\n",
       "      <td>2</td>\n",
       "      <td>2</td>\n",
       "      <td>2</td>\n",
       "      <td>2</td>\n",
       "      <td>99</td>\n",
       "      <td>1</td>\n",
       "      <td>97</td>\n",
       "    </tr>\n",
       "    <tr>\n",
       "      <th>2</th>\n",
       "      <td>167386</td>\n",
       "      <td>1</td>\n",
       "      <td>2</td>\n",
       "      <td>06/04/2020</td>\n",
       "      <td>01/04/2020</td>\n",
       "      <td>9999-99-99</td>\n",
       "      <td>2</td>\n",
       "      <td>2</td>\n",
       "      <td>54</td>\n",
       "      <td>2</td>\n",
       "      <td>...</td>\n",
       "      <td>2</td>\n",
       "      <td>2</td>\n",
       "      <td>2</td>\n",
       "      <td>2</td>\n",
       "      <td>1</td>\n",
       "      <td>2</td>\n",
       "      <td>2</td>\n",
       "      <td>99</td>\n",
       "      <td>1</td>\n",
       "      <td>2</td>\n",
       "    </tr>\n",
       "    <tr>\n",
       "      <th>3</th>\n",
       "      <td>0b5948</td>\n",
       "      <td>2</td>\n",
       "      <td>2</td>\n",
       "      <td>17/04/2020</td>\n",
       "      <td>10/04/2020</td>\n",
       "      <td>9999-99-99</td>\n",
       "      <td>2</td>\n",
       "      <td>1</td>\n",
       "      <td>30</td>\n",
       "      <td>97</td>\n",
       "      <td>...</td>\n",
       "      <td>2</td>\n",
       "      <td>2</td>\n",
       "      <td>2</td>\n",
       "      <td>2</td>\n",
       "      <td>2</td>\n",
       "      <td>2</td>\n",
       "      <td>2</td>\n",
       "      <td>99</td>\n",
       "      <td>1</td>\n",
       "      <td>2</td>\n",
       "    </tr>\n",
       "    <tr>\n",
       "      <th>4</th>\n",
       "      <td>0d01b5</td>\n",
       "      <td>1</td>\n",
       "      <td>2</td>\n",
       "      <td>13/04/2020</td>\n",
       "      <td>13/04/2020</td>\n",
       "      <td>22/04/2020</td>\n",
       "      <td>2</td>\n",
       "      <td>2</td>\n",
       "      <td>60</td>\n",
       "      <td>2</td>\n",
       "      <td>...</td>\n",
       "      <td>2</td>\n",
       "      <td>1</td>\n",
       "      <td>2</td>\n",
       "      <td>1</td>\n",
       "      <td>2</td>\n",
       "      <td>2</td>\n",
       "      <td>2</td>\n",
       "      <td>99</td>\n",
       "      <td>1</td>\n",
       "      <td>2</td>\n",
       "    </tr>\n",
       "  </tbody>\n",
       "</table>\n",
       "<p>5 rows × 23 columns</p>\n",
       "</div>"
      ],
      "text/plain": [
       "       id  sex  patient_type  entry_date date_symptoms   date_died  intubed  \\\n",
       "0  16169f    2             1  04/05/2020    02/05/2020  9999-99-99       97   \n",
       "1  1009bf    2             1  19/03/2020    17/03/2020  9999-99-99       97   \n",
       "2  167386    1             2  06/04/2020    01/04/2020  9999-99-99        2   \n",
       "3  0b5948    2             2  17/04/2020    10/04/2020  9999-99-99        2   \n",
       "4  0d01b5    1             2  13/04/2020    13/04/2020  22/04/2020        2   \n",
       "\n",
       "   pneumonia  age  pregnancy  ...  inmsupr  hypertension  other_disease  \\\n",
       "0          2   27         97  ...        2             2              2   \n",
       "1          2   24         97  ...        2             2              2   \n",
       "2          2   54          2  ...        2             2              2   \n",
       "3          1   30         97  ...        2             2              2   \n",
       "4          2   60          2  ...        2             1              2   \n",
       "\n",
       "   cardiovascular  obesity  renal_chronic  tobacco  contact_other_covid  \\\n",
       "0               2        2              2        2                    2   \n",
       "1               2        2              2        2                   99   \n",
       "2               2        1              2        2                   99   \n",
       "3               2        2              2        2                   99   \n",
       "4               1        2              2        2                   99   \n",
       "\n",
       "   covid_res  icu  \n",
       "0          1   97  \n",
       "1          1   97  \n",
       "2          1    2  \n",
       "3          1    2  \n",
       "4          1    2  \n",
       "\n",
       "[5 rows x 23 columns]"
      ]
     },
     "execution_count": 6,
     "metadata": {},
     "output_type": "execute_result"
    }
   ],
   "source": [
    "df.head()"
   ]
  },
  {
   "cell_type": "code",
   "execution_count": 7,
   "metadata": {},
   "outputs": [
    {
     "data": {
      "text/plain": [
       "Index(['id', 'sex', 'patient_type', 'entry_date', 'date_symptoms', 'date_died',\n",
       "       'intubed', 'pneumonia', 'age', 'pregnancy', 'diabetes', 'copd',\n",
       "       'asthma', 'inmsupr', 'hypertension', 'other_disease', 'cardiovascular',\n",
       "       'obesity', 'renal_chronic', 'tobacco', 'contact_other_covid',\n",
       "       'covid_res', 'icu'],\n",
       "      dtype='object')"
      ]
     },
     "execution_count": 7,
     "metadata": {},
     "output_type": "execute_result"
    }
   ],
   "source": [
    "df.columns"
   ]
  },
  {
   "cell_type": "code",
   "execution_count": 9,
   "metadata": {},
   "outputs": [],
   "source": [
    "#converting numerical features to proper categories\n",
    "df.sex.replace({1: 'Female', 2: 'Male'}, inplace=True)\n",
    "df.patient_type.replace({1: 'Outpatient', 2: 'Inpatient'}, inplace=True)\n",
    "df.intubed.replace({1: 'Yes', 2: 'No',97:'Not Specified', 98:'Not Specified',99:'Not Specified'}, inplace=True)\n",
    "df.pneumonia.replace({1: 'Yes', 2: 'No', 98:'Not Specified',99:'Not Specified', 97:'Not Specified'}, inplace=True)\n",
    "df.pregnancy.replace({1: 'Yes', 2: 'No', 99:'Not Specified',98:'Not Specified', 97:'Not Specified'}, inplace=True)\n",
    "df.diabetes.replace({1:'Yes', 2: 'No', 99:'Not Specified',98:'Not Specified', 97:'Not Specified'}, inplace=True)\n",
    "df.copd.replace({1:'Yes', 2: 'No', 99:'Not Specified',98:'Not Specified', 97:'Not Specified'}, inplace=True)\n",
    "df.asthma.replace({1:'Yes', 2: 'No', 99:'Not Specified',98:'Not Specified', 97:'Not Specified'}, inplace=True)\n",
    "df.inmsupr.replace({1:'Yes', 2: 'No', 99:'Not Specified',98:'Not Specified', 97:'Not Specified'}, inplace=True)\n",
    "df.hypertension.replace({1:'Yes', 2: 'No', 99:'Not Specified',98:'Not Specified', 97:'Not Specified'}, inplace=True)\n",
    "df.other_disease.replace({1:'Yes', 2: 'No', 99:'Not Specified',98:'Not Specified', 97:'Not Specified'}, inplace=True)\n",
    "df.cardiovascular.replace({1:'Yes', 2: 'No', 99:'Not Specified',98:'Not Specified', 97:'Not Specified'}, inplace=True)\n",
    "df.obesity.replace({1:'Yes', 2: 'No', 99:'Not Specified',98:'Not Specified', 97:'Not Specified'}, inplace=True)\n",
    "df.renal_chronic.replace({1:'Yes', 2: 'No', 99:'Not Specified',98:'Not Specified', 97:'Not Specified'}, inplace=True)\n",
    "df.tobacco.replace({1:'Yes', 2: 'No', 99:'Not Specified',98:'Not Specified', 97:'Not Specified'}, inplace=True)\n",
    "df.contact_other_covid.replace({1: 'Yes', 2: 'No', 97:'Not Specified',99:'Not Specified',98:'Not Specified'}, inplace=True)\n",
    "df.covid_res.replace({1: 'Positive', 2: 'Negative', 3:'Awaiting Results'}, inplace=True)\n",
    "df.icu.replace({1: 'Yes', 2: 'No', 97:'Not Specified',98:'Not Specified', 99:'Not Specified'}, inplace=True)\n"
   ]
  },
  {
   "cell_type": "raw",
   "metadata": {},
   "source": [
    "#converting numerical features to proper categories\n",
    "#df.sex.replace({1: 'Female', 2: 'Male'}, inplace=True)\n",
    "#df.patient_type.replace({1: 'Outpatient', 2: 'Inpatient'}, inplace=True)\n",
    "df.intubed.replace({97:0,98:0,99:0}, inplace=True)\n",
    "df.pneumonia.replace({98:0,99:0,97:0}, inplace=True)\n",
    "df.pregnancy.replace({99:0,98:0,97:0}, inplace=True)\n",
    "df.diabetes.replace({99:0,98:0,97:0}, inplace=True)\n",
    "df.copd.replace({99:0,98:0,97:0}, inplace=True)\n",
    "df.asthma.replace({99:0,98:0,97:0}, inplace=True)\n",
    "df.inmsupr.replace({99:0,98:0,97:0}, inplace=True)\n",
    "df.hypertension.replace({99:0,98:0,97:0}, inplace=True)\n",
    "df.other_disease.replace({99:0,98:0,97:0}, inplace=True)\n",
    "df.cardiovascular.replace({99:0,98:0,97:0}, inplace=True)\n",
    "df.obesity.replace({99:0,98:0,97:0}, inplace=True)\n",
    "df.renal_chronic.replace({99:0,98:0,97:0}, inplace=True)\n",
    "df.tobacco.replace({99:0,98:0,97:0}, inplace=True)\n",
    "df.contact_other_covid.replace({97:0,99:0,98:0}, inplace=True)\n",
    "df.covid_res.replace({1: 'Positive', 2: 'Negative', 3:'Awaiting Results'}, inplace=True)\n",
    "df.icu.replace({97:0,98:0,99:0}, inplace=True)\n"
   ]
  },
  {
   "cell_type": "code",
   "execution_count": 10,
   "metadata": {},
   "outputs": [
    {
     "name": "stdout",
     "output_type": "stream",
     "text": [
      "Categorical Features: ['id', 'sex', 'patient_type', 'entry_date', 'date_symptoms', 'date_died', 'intubed', 'pneumonia', 'pregnancy', 'diabetes', 'copd', 'asthma', 'inmsupr', 'hypertension', 'other_disease', 'cardiovascular', 'obesity', 'renal_chronic', 'tobacco', 'contact_other_covid', 'covid_res', 'icu']\n",
      "Numerical Features: ['age']\n"
     ]
    }
   ],
   "source": [
    "cat_features=df.select_dtypes(include='object').columns.tolist()\n",
    "print(\"Categorical Features:\",cat_features)\n",
    "num_features=df.select_dtypes(exclude='object').columns.tolist()\n",
    "print(\"Numerical Features:\",num_features)"
   ]
  },
  {
   "cell_type": "code",
   "execution_count": 11,
   "metadata": {},
   "outputs": [],
   "source": [
    "#Dates\n",
    "df['date_died'].replace('9999-99-99','Not Applicable',inplace=True)\n",
    "date_fields=['entry_date','date_symptoms']\n",
    "for dates in date_fields:\n",
    "    df[dates]=pd.to_datetime(df[dates],infer_datetime_format=True)"
   ]
  },
  {
   "cell_type": "code",
   "execution_count": 12,
   "metadata": {},
   "outputs": [
    {
     "data": {
      "text/html": [
       "<div>\n",
       "<style scoped>\n",
       "    .dataframe tbody tr th:only-of-type {\n",
       "        vertical-align: middle;\n",
       "    }\n",
       "\n",
       "    .dataframe tbody tr th {\n",
       "        vertical-align: top;\n",
       "    }\n",
       "\n",
       "    .dataframe thead th {\n",
       "        text-align: right;\n",
       "    }\n",
       "</style>\n",
       "<table border=\"1\" class=\"dataframe\">\n",
       "  <thead>\n",
       "    <tr style=\"text-align: right;\">\n",
       "      <th></th>\n",
       "      <th>id</th>\n",
       "      <th>sex</th>\n",
       "      <th>patient_type</th>\n",
       "      <th>entry_date</th>\n",
       "      <th>date_symptoms</th>\n",
       "      <th>date_died</th>\n",
       "      <th>intubed</th>\n",
       "      <th>pneumonia</th>\n",
       "      <th>age</th>\n",
       "      <th>pregnancy</th>\n",
       "      <th>...</th>\n",
       "      <th>inmsupr</th>\n",
       "      <th>hypertension</th>\n",
       "      <th>other_disease</th>\n",
       "      <th>cardiovascular</th>\n",
       "      <th>obesity</th>\n",
       "      <th>renal_chronic</th>\n",
       "      <th>tobacco</th>\n",
       "      <th>contact_other_covid</th>\n",
       "      <th>covid_res</th>\n",
       "      <th>icu</th>\n",
       "    </tr>\n",
       "  </thead>\n",
       "  <tbody>\n",
       "    <tr>\n",
       "      <th>0</th>\n",
       "      <td>16169f</td>\n",
       "      <td>Male</td>\n",
       "      <td>Outpatient</td>\n",
       "      <td>2020-04-05</td>\n",
       "      <td>2020-02-05</td>\n",
       "      <td>Not Applicable</td>\n",
       "      <td>Not Specified</td>\n",
       "      <td>No</td>\n",
       "      <td>27</td>\n",
       "      <td>Not Specified</td>\n",
       "      <td>...</td>\n",
       "      <td>No</td>\n",
       "      <td>No</td>\n",
       "      <td>No</td>\n",
       "      <td>No</td>\n",
       "      <td>No</td>\n",
       "      <td>No</td>\n",
       "      <td>No</td>\n",
       "      <td>No</td>\n",
       "      <td>Positive</td>\n",
       "      <td>Not Specified</td>\n",
       "    </tr>\n",
       "    <tr>\n",
       "      <th>1</th>\n",
       "      <td>1009bf</td>\n",
       "      <td>Male</td>\n",
       "      <td>Outpatient</td>\n",
       "      <td>2020-03-19</td>\n",
       "      <td>2020-03-17</td>\n",
       "      <td>Not Applicable</td>\n",
       "      <td>Not Specified</td>\n",
       "      <td>No</td>\n",
       "      <td>24</td>\n",
       "      <td>Not Specified</td>\n",
       "      <td>...</td>\n",
       "      <td>No</td>\n",
       "      <td>No</td>\n",
       "      <td>No</td>\n",
       "      <td>No</td>\n",
       "      <td>No</td>\n",
       "      <td>No</td>\n",
       "      <td>No</td>\n",
       "      <td>Not Specified</td>\n",
       "      <td>Positive</td>\n",
       "      <td>Not Specified</td>\n",
       "    </tr>\n",
       "    <tr>\n",
       "      <th>2</th>\n",
       "      <td>167386</td>\n",
       "      <td>Female</td>\n",
       "      <td>Inpatient</td>\n",
       "      <td>2020-06-04</td>\n",
       "      <td>2020-01-04</td>\n",
       "      <td>Not Applicable</td>\n",
       "      <td>No</td>\n",
       "      <td>No</td>\n",
       "      <td>54</td>\n",
       "      <td>No</td>\n",
       "      <td>...</td>\n",
       "      <td>No</td>\n",
       "      <td>No</td>\n",
       "      <td>No</td>\n",
       "      <td>No</td>\n",
       "      <td>Yes</td>\n",
       "      <td>No</td>\n",
       "      <td>No</td>\n",
       "      <td>Not Specified</td>\n",
       "      <td>Positive</td>\n",
       "      <td>No</td>\n",
       "    </tr>\n",
       "    <tr>\n",
       "      <th>3</th>\n",
       "      <td>0b5948</td>\n",
       "      <td>Male</td>\n",
       "      <td>Inpatient</td>\n",
       "      <td>2020-04-17</td>\n",
       "      <td>2020-10-04</td>\n",
       "      <td>Not Applicable</td>\n",
       "      <td>No</td>\n",
       "      <td>Yes</td>\n",
       "      <td>30</td>\n",
       "      <td>Not Specified</td>\n",
       "      <td>...</td>\n",
       "      <td>No</td>\n",
       "      <td>No</td>\n",
       "      <td>No</td>\n",
       "      <td>No</td>\n",
       "      <td>No</td>\n",
       "      <td>No</td>\n",
       "      <td>No</td>\n",
       "      <td>Not Specified</td>\n",
       "      <td>Positive</td>\n",
       "      <td>No</td>\n",
       "    </tr>\n",
       "    <tr>\n",
       "      <th>4</th>\n",
       "      <td>0d01b5</td>\n",
       "      <td>Female</td>\n",
       "      <td>Inpatient</td>\n",
       "      <td>2020-04-13</td>\n",
       "      <td>2020-04-13</td>\n",
       "      <td>22/04/2020</td>\n",
       "      <td>No</td>\n",
       "      <td>No</td>\n",
       "      <td>60</td>\n",
       "      <td>No</td>\n",
       "      <td>...</td>\n",
       "      <td>No</td>\n",
       "      <td>Yes</td>\n",
       "      <td>No</td>\n",
       "      <td>Yes</td>\n",
       "      <td>No</td>\n",
       "      <td>No</td>\n",
       "      <td>No</td>\n",
       "      <td>Not Specified</td>\n",
       "      <td>Positive</td>\n",
       "      <td>No</td>\n",
       "    </tr>\n",
       "  </tbody>\n",
       "</table>\n",
       "<p>5 rows × 23 columns</p>\n",
       "</div>"
      ],
      "text/plain": [
       "       id     sex patient_type entry_date date_symptoms       date_died  \\\n",
       "0  16169f    Male   Outpatient 2020-04-05    2020-02-05  Not Applicable   \n",
       "1  1009bf    Male   Outpatient 2020-03-19    2020-03-17  Not Applicable   \n",
       "2  167386  Female    Inpatient 2020-06-04    2020-01-04  Not Applicable   \n",
       "3  0b5948    Male    Inpatient 2020-04-17    2020-10-04  Not Applicable   \n",
       "4  0d01b5  Female    Inpatient 2020-04-13    2020-04-13      22/04/2020   \n",
       "\n",
       "         intubed pneumonia  age      pregnancy  ... inmsupr hypertension  \\\n",
       "0  Not Specified        No   27  Not Specified  ...      No           No   \n",
       "1  Not Specified        No   24  Not Specified  ...      No           No   \n",
       "2             No        No   54             No  ...      No           No   \n",
       "3             No       Yes   30  Not Specified  ...      No           No   \n",
       "4             No        No   60             No  ...      No          Yes   \n",
       "\n",
       "  other_disease cardiovascular obesity renal_chronic tobacco  \\\n",
       "0            No             No      No            No      No   \n",
       "1            No             No      No            No      No   \n",
       "2            No             No     Yes            No      No   \n",
       "3            No             No      No            No      No   \n",
       "4            No            Yes      No            No      No   \n",
       "\n",
       "  contact_other_covid covid_res            icu  \n",
       "0                  No  Positive  Not Specified  \n",
       "1       Not Specified  Positive  Not Specified  \n",
       "2       Not Specified  Positive             No  \n",
       "3       Not Specified  Positive             No  \n",
       "4       Not Specified  Positive             No  \n",
       "\n",
       "[5 rows x 23 columns]"
      ]
     },
     "execution_count": 12,
     "metadata": {},
     "output_type": "execute_result"
    }
   ],
   "source": [
    "df.head()"
   ]
  },
  {
   "cell_type": "markdown",
   "metadata": {},
   "source": [
    "# 2. Exploratory Data Analysis"
   ]
  },
  {
   "cell_type": "code",
   "execution_count": 11,
   "metadata": {},
   "outputs": [
    {
     "name": "stdout",
     "output_type": "stream",
     "text": [
      "Negative            279035\n",
      "Positive            220657\n",
      "Awaiting Results     66910\n",
      "Name: covid_res, dtype: int64\n"
     ]
    },
    {
     "data": {
      "image/png": "[encoded data removed]",
      "text/plain": [
       "<Figure size 360x360 with 1 Axes>"
      ]
     },
     "metadata": {
      "needs_background": "light"
     },
     "output_type": "display_data"
    },
    {
     "data": {
      "image/png": "[encoded data removed]",
      "text/plain": [
       "<Figure size 360x360 with 1 Axes>"
      ]
     },
     "metadata": {},
     "output_type": "display_data"
    }
   ],
   "source": [
    "#count of Covid-19 positive and negative patients\n",
    "df1=df.copy()\n",
    "print(df1.covid_res.value_counts())\n",
    "\n",
    "plt.figure(figsize=(5,5))\n",
    "plt.title(\"Count of Covid-19 patients (Positive/Negative/Awaiting\")\n",
    "sns.countplot(df1['covid_res'],palette='autumn_d')\n",
    "plt.xticks(ticks=np.arange(3),labels=['Positive','Negative','Awaiting Results'])\n",
    "plt.xlabel(\"Test Result\")\n",
    "plt.show()\n",
    "\n",
    "plt.figure(figsize=(5,5))\n",
    "plt.title(\"Percentage of Covid Patients\")\n",
    "df1['covid_res'].value_counts().plot(kind='pie',labels=['Positive','Negative','Awaiting Results'],autopct=\"%1.2f%%\")\n",
    "plt.show()"
   ]
  },
  {
   "cell_type": "code",
   "execution_count": 12,
   "metadata": {},
   "outputs": [
    {
     "name": "stdout",
     "output_type": "stream",
     "text": [
      "Male      287112\n",
      "Female    279490\n",
      "Name: sex, dtype: int64\n"
     ]
    },
    {
     "data": {
      "image/png": "[encoded data removed]",
      "text/plain": [
       "<Figure size 360x360 with 1 Axes>"
      ]
     },
     "metadata": {
      "needs_background": "light"
     },
     "output_type": "display_data"
    }
   ],
   "source": [
    "#count of genderwise Covid-19 positive and negative patients\n",
    "print(df1.sex.value_counts())\n",
    "\n",
    "plt.figure(figsize=(5,5))\n",
    "plt.title(\"Count of Covid-19 patients (Positive/Negative/Awaiting\")\n",
    "sns.countplot(x='covid_res',hue='sex',data=df1,palette='autumn_d')\n",
    "plt.show()"
   ]
  },
  {
   "cell_type": "code",
   "execution_count": 13,
   "metadata": {},
   "outputs": [
    {
     "name": "stdout",
     "output_type": "stream",
     "text": [
      "Outpatient    444689\n",
      "Inpatient     121913\n",
      "Name: patient_type, dtype: int64\n"
     ]
    },
    {
     "data": {
      "image/png": "[encoded data removed]",
      "text/plain": [
       "<Figure size 360x360 with 1 Axes>"
      ]
     },
     "metadata": {
      "needs_background": "light"
     },
     "output_type": "display_data"
    },
    {
     "data": {
      "image/png": "[encoded data removed]",
      "text/plain": [
       "<Figure size 360x360 with 1 Axes>"
      ]
     },
     "metadata": {},
     "output_type": "display_data"
    }
   ],
   "source": [
    "#count of Covid-19 positive and negative patients\n",
    "df1=df.copy()\n",
    "print(df1.patient_type.value_counts())\n",
    "\n",
    "plt.figure(figsize=(5,5))\n",
    "plt.title(\"Count of Patient Type (Hospitalized /Not Hospitalized\")\n",
    "sns.countplot(df1['patient_type'],palette='autumn_d')\n",
    "plt.xticks(ticks=np.arange(2),labels=['Not Hospitalized','Hospitalized'])\n",
    "plt.xlabel(\"Test Result\")\n",
    "plt.show()\n",
    "\n",
    "plt.figure(figsize=(5,5))\n",
    "plt.title(\"Percentage of Patent type\")\n",
    "df1['patient_type'].value_counts().plot(kind='pie',labels=['Not Hospitalized','Hospitalized'],autopct=\"%1.2f%%\")\n",
    "plt.show()"
   ]
  },
  {
   "cell_type": "code",
   "execution_count": 14,
   "metadata": {},
   "outputs": [
    {
     "data": {
      "image/png": "[encoded data removed]",
      "text/plain": [
       "<Figure size 720x576 with 1 Axes>"
      ]
     },
     "metadata": {
      "needs_background": "light"
     },
     "output_type": "display_data"
    }
   ],
   "source": [
    "#Analysis of Mortality by Gender\n",
    "df1['died'] = df1['date_died'].apply(lambda x: 'Non-died' if x == \"Not Applicable\" else 'Died')\n",
    "\n",
    "fig, ax = plt.subplots(figsize=(10, 8))\n",
    "sns.countplot(x ='died', hue ='sex', data = df1,palette='autumn_d')\n",
    "plt.title('The mortality by Gender')\n",
    "plt.xlabel(\"Gender\")\n",
    "plt.ylabel(\"Count\")\n",
    "plt.show()"
   ]
  },
  {
   "cell_type": "code",
   "execution_count": 15,
   "metadata": {},
   "outputs": [
    {
     "data": {
      "text/plain": [
       "Text(-2.075000000000003, 0.5, 'Count')"
      ]
     },
     "execution_count": 15,
     "metadata": {},
     "output_type": "execute_result"
    },
    {
     "data": {
      "image/png": "[encoded data removed]",
      "text/plain": [
       "<Figure size 720x576 with 1 Axes>"
      ]
     },
     "metadata": {
      "needs_background": "light"
     },
     "output_type": "display_data"
    },
    {
     "data": {
      "image/png": "[encoded data removed]",
      "text/plain": [
       "<Figure size 360x360 with 1 Axes>"
      ]
     },
     "metadata": {
      "needs_background": "light"
     },
     "output_type": "display_data"
    }
   ],
   "source": [
    "#Intubed\n",
    "plt.figure(figsize=(10,8))\n",
    "sns.countplot('intubed',hue='covid_res',data=df1,palette='autumn_d')\n",
    "plt.xticks(size=15,)\n",
    "plt.xlabel('Intubation')\n",
    "plt.xticks(ticks=np.arange(3),labels=['No','Yes','Awaiting'])\n",
    "plt.ylabel('Count')\n",
    "plt.title('Reported intubations')\n",
    "\n",
    "df_in=df1[df1['intubed']=='Yes']\n",
    "sns.catplot('covid_res',data=df_in,kind='count',palette='autumn_d')\n",
    "plt.title('Intubed patient numbers',size=20)\n",
    "plt.xlabel('Test Results')\n",
    "plt.xticks(np.arange(3),labels=[\"Negative\",\"Positive\",\"Awaiting Result\"])\n",
    "plt.ylabel(\"Count\")"
   ]
  },
  {
   "cell_type": "code",
   "execution_count": 16,
   "metadata": {},
   "outputs": [
    {
     "data": {
      "text/plain": [
       "Text(0.5, 1.0, 'Covid-19 patient with Pneumonia ')"
      ]
     },
     "execution_count": 16,
     "metadata": {},
     "output_type": "execute_result"
    },
    {
     "data": {
      "image/png": "[encoded data removed]",
      "text/plain": [
       "<Figure size 720x576 with 1 Axes>"
      ]
     },
     "metadata": {
      "needs_background": "light"
     },
     "output_type": "display_data"
    }
   ],
   "source": [
    "#Pneumonia\n",
    "plt.figure(figsize=(10,8))\n",
    "sns.countplot('pneumonia',hue='covid_res',data=df1,palette='autumn_d')\n",
    "plt.xticks(size=15,)\n",
    "plt.xlabel('Pnuemina')\n",
    "plt.xticks(ticks=np.arange(3),labels=['No','Yes','Not Specified'])\n",
    "plt.ylabel('Count')\n",
    "plt.title('Covid-19 patient with Pneumonia ')"
   ]
  },
  {
   "cell_type": "code",
   "execution_count": 17,
   "metadata": {},
   "outputs": [
    {
     "data": {
      "text/plain": [
       "Text(0.5, 1.0, 'COVID +ve case fatality with respect to Age')"
      ]
     },
     "execution_count": 17,
     "metadata": {},
     "output_type": "execute_result"
    },
    {
     "data": {
      "image/png": "[encoded data removed]",
      "text/plain": [
       "<Figure size 1800x720 with 1 Axes>"
      ]
     },
     "metadata": {
      "needs_background": "light"
     },
     "output_type": "display_data"
    }
   ],
   "source": [
    "#fatality with respect to Age\n",
    "plt.figure(figsize=(25,10))\n",
    "df_pos=df1[df1['covid_res']=='Positive']\n",
    "sns.countplot('age',hue='died',data=df_pos,palette='autumn_d')\n",
    "plt.xticks(ticks=np.arange(0,99),size=15,rotation=90)\n",
    "plt.yticks(size=20)\n",
    "plt.title('COVID +ve case fatality with respect to Age')"
   ]
  },
  {
   "cell_type": "markdown",
   "metadata": {},
   "source": [
    "Other patient medical conditions:\n",
    "We shall now check how the comorbidities or medical conditions such as pregnancy effects fatality of patients.Pneumonia, Cardiovascular, Pregnancy, Obesity. Let us check how the patients with the above medical conditions have fared."
   ]
  },
  {
   "cell_type": "code",
   "execution_count": 18,
   "metadata": {},
   "outputs": [
    {
     "data": {
      "text/plain": [
       "Text(0.5, 0, 'Fatality rate: 15.70 %')"
      ]
     },
     "execution_count": 18,
     "metadata": {},
     "output_type": "execute_result"
    },
    {
     "data": {
      "image/png": "[encoded data removed]",
      "text/plain": [
       "<Figure size 720x720 with 4 Axes>"
      ]
     },
     "metadata": {
      "needs_background": "light"
     },
     "output_type": "display_data"
    }
   ],
   "source": [
    "fig2=plt.figure(figsize=(10,10))\n",
    "ax1=fig2.add_subplot(2,2,1)\n",
    "ax2=fig2.add_subplot(2,2,2)\n",
    "ax3=fig2.add_subplot(2,2,3)\n",
    "ax4=fig2.add_subplot(2,2,4)\n",
    "df_pneu=df_pos[df_pos['pneumonia']=='Yes']\n",
    "df_preg=df_pos[df_pos['pregnancy']=='Yes']\n",
    "df_card=df_pos[df_pos['cardiovascular']=='Yes']\n",
    "df_obes=df_pos[df_pos['obesity']=='Yes']\n",
    "\n",
    "\n",
    "sns.countplot('pneumonia',data=df_pneu,hue='died',ax=ax1,palette='gnuplot')\n",
    "sns.countplot('pregnancy',data=df_preg,hue='died',ax=ax2,palette='summer')\n",
    "sns.countplot('cardiovascular',data=df_card,hue='died',ax=ax3,palette='viridis')\n",
    "sns.countplot('obesity',data=df_obes,hue='died',ax=ax4,palette='winter')\n",
    "\n",
    "ax1.set_title('Pneumonia + COVID',size=10)\n",
    "ax2.set_title('Pregnancy + COVID',size=10)\n",
    "ax3.set_title('Cardiovascular disease + COVID',size=10)\n",
    "ax4.set_title('Obesity + COVID',size=10)\n",
    "\n",
    "ax1.set_xlabel('Fatality rate: {0:.2f} %'.format(100*df_pneu['died'].value_counts()[1]/df_pneu['died'].shape[0]),size=15)\n",
    "ax2.set_xlabel('Fatality rate: {0:.2f} %'.format(100*df_preg['died'].value_counts()[1]/df_preg['died'].shape[0]),size=15)\n",
    "ax3.set_xlabel('Fatality rate: {0:.2f} %'.format(100*df_card['died'].value_counts()[1]/df_card['died'].shape[0]),size=15)\n",
    "ax4.set_xlabel('Fatality rate: {0:.2f} %'.format(100*df_obes['died'].value_counts()[1]/df_obes['died'].shape[0]),size=15)"
   ]
  },
  {
   "cell_type": "markdown",
   "metadata": {},
   "source": [
    "For patients with comorbities such as pneumonia, obesity or cardiovascular diseases, the fatality is higher.\n",
    "Pregancy doesn't lead to any significant increase in fatality."
   ]
  },
  {
   "cell_type": "code",
   "execution_count": 19,
   "metadata": {
    "scrolled": true
   },
   "outputs": [
    {
     "data": {
      "image/png": "[encoded data removed]",
      "text/plain": [
       "<Figure size 504x360 with 1 Axes>"
      ]
     },
     "metadata": {
      "needs_background": "light"
     },
     "output_type": "display_data"
    },
    {
     "data": {
      "image/png": "[encoded data removed]",
      "text/plain": [
       "<Figure size 504x360 with 1 Axes>"
      ]
     },
     "metadata": {
      "needs_background": "light"
     },
     "output_type": "display_data"
    },
    {
     "data": {
      "image/png": "[encoded data removed]",
      "text/plain": [
       "<Figure size 504x360 with 1 Axes>"
      ]
     },
     "metadata": {
      "needs_background": "light"
     },
     "output_type": "display_data"
    }
   ],
   "source": [
    "plt.figure(figsize=(7,5))\n",
    "sns.countplot(x='icu',data=df1,hue='sex',palette='gnuplot')\n",
    "plt.title(\"Genderwise No of Patients Admitted in ICU \")\n",
    "plt.xlabel(\"ICU\")\n",
    "plt.ylabel(\"Count\")\n",
    "plt.show()\n",
    "\n",
    "plt.figure(figsize=(7,5))\n",
    "sns.countplot(x='icu',data=df1,hue='covid_res',palette='summer')\n",
    "plt.title(\"Test Resultwise No of Patients Admitted in ICU \")\n",
    "plt.xlabel(\"ICU\")\n",
    "plt.ylabel(\"Count\")\n",
    "plt.show()\n",
    "\n",
    "plt.figure(figsize=(7,5))\n",
    "sns.countplot(x='icu',data=df1,hue='died',palette='viridis')\n",
    "plt.title(\"Fatality in case of Patients Admitted in ICU \")\n",
    "plt.xlabel(\"ICU\")\n",
    "plt.ylabel(\"Count\")\n",
    "plt.show()"
   ]
  },
  {
   "cell_type": "markdown",
   "metadata": {},
   "source": [
    "# 3. Feature Engineering"
   ]
  },
  {
   "cell_type": "markdown",
   "metadata": {},
   "source": [
    "Handling Missing Values"
   ]
  },
  {
   "cell_type": "code",
   "execution_count": 34,
   "metadata": {},
   "outputs": [
    {
     "data": {
      "text/plain": [
       "id                     0\n",
       "sex                    0\n",
       "patient_type           0\n",
       "entry_date             0\n",
       "date_symptoms          0\n",
       "date_died              0\n",
       "intubed                0\n",
       "pneumonia              0\n",
       "age                    0\n",
       "pregnancy              0\n",
       "diabetes               0\n",
       "copd                   0\n",
       "asthma                 0\n",
       "inmsupr                0\n",
       "hypertension           0\n",
       "other_disease          0\n",
       "cardiovascular         0\n",
       "obesity                0\n",
       "renal_chronic          0\n",
       "tobacco                0\n",
       "contact_other_covid    0\n",
       "covid_res              0\n",
       "icu                    0\n",
       "dtype: int64"
      ]
     },
     "execution_count": 34,
     "metadata": {},
     "output_type": "execute_result"
    }
   ],
   "source": [
    "#No null alues to handle\n",
    "df.isna().sum() \n",
    "df.isnull().sum()"
   ]
  },
  {
   "cell_type": "code",
   "execution_count": 35,
   "metadata": {},
   "outputs": [
    {
     "name": "stdout",
     "output_type": "stream",
     "text": [
      "<class 'pandas.core.frame.DataFrame'>\n",
      "RangeIndex: 566602 entries, 0 to 566601\n",
      "Data columns (total 23 columns):\n",
      " #   Column               Non-Null Count   Dtype \n",
      "---  ------               --------------   ----- \n",
      " 0   id                   566602 non-null  object\n",
      " 1   sex                  566602 non-null  object\n",
      " 2   patient_type         566602 non-null  object\n",
      " 3   entry_date           566602 non-null  object\n",
      " 4   date_symptoms        566602 non-null  object\n",
      " 5   date_died            566602 non-null  object\n",
      " 6   intubed              566602 non-null  object\n",
      " 7   pneumonia            566602 non-null  object\n",
      " 8   age                  566602 non-null  int64 \n",
      " 9   pregnancy            566602 non-null  object\n",
      " 10  diabetes             566602 non-null  object\n",
      " 11  copd                 566602 non-null  object\n",
      " 12  asthma               566602 non-null  object\n",
      " 13  inmsupr              566602 non-null  object\n",
      " 14  hypertension         566602 non-null  object\n",
      " 15  other_disease        566602 non-null  object\n",
      " 16  cardiovascular       566602 non-null  object\n",
      " 17  obesity              566602 non-null  object\n",
      " 18  renal_chronic        566602 non-null  object\n",
      " 19  tobacco              566602 non-null  object\n",
      " 20  contact_other_covid  566602 non-null  object\n",
      " 21  covid_res            566602 non-null  object\n",
      " 22  icu                  566602 non-null  object\n",
      "dtypes: int64(1), object(22)\n",
      "memory usage: 51.9+ MB\n"
     ]
    }
   ],
   "source": [
    "df.info()"
   ]
  },
  {
   "cell_type": "code",
   "execution_count": 36,
   "metadata": {},
   "outputs": [],
   "source": [
    "final_df=df.copy()\n",
    "final_df.drop(['id','entry_date','date_symptoms','date_died'],axis=1,inplace=True)"
   ]
  },
  {
   "cell_type": "code",
   "execution_count": 37,
   "metadata": {},
   "outputs": [
    {
     "data": {
      "text/plain": [
       "Index(['id', 'sex', 'patient_type', 'entry_date', 'date_symptoms', 'date_died',\n",
       "       'intubed', 'pneumonia', 'age', 'pregnancy', 'diabetes', 'copd',\n",
       "       'asthma', 'inmsupr', 'hypertension', 'other_disease', 'cardiovascular',\n",
       "       'obesity', 'renal_chronic', 'tobacco', 'contact_other_covid',\n",
       "       'covid_res', 'icu'],\n",
       "      dtype='object')"
      ]
     },
     "execution_count": 37,
     "metadata": {},
     "output_type": "execute_result"
    }
   ],
   "source": [
    "df.columns"
   ]
  },
  {
   "cell_type": "code",
   "execution_count": 38,
   "metadata": {},
   "outputs": [],
   "source": [
    "cat_features=final_df.select_dtypes(include='object').columns.tolist()\n",
    "le=LabelEncoder()\n",
    "for col in cat_features:\n",
    "    final_df[col]=le.fit_transform(final_df[col])\n",
    "    "
   ]
  },
  {
   "cell_type": "code",
   "execution_count": 39,
   "metadata": {},
   "outputs": [
    {
     "name": "stdout",
     "output_type": "stream",
     "text": [
      "<class 'pandas.core.frame.DataFrame'>\n",
      "RangeIndex: 566602 entries, 0 to 566601\n",
      "Data columns (total 19 columns):\n",
      " #   Column               Non-Null Count   Dtype\n",
      "---  ------               --------------   -----\n",
      " 0   sex                  566602 non-null  int32\n",
      " 1   patient_type         566602 non-null  int32\n",
      " 2   intubed              566602 non-null  int32\n",
      " 3   pneumonia            566602 non-null  int32\n",
      " 4   age                  566602 non-null  int64\n",
      " 5   pregnancy            566602 non-null  int32\n",
      " 6   diabetes             566602 non-null  int32\n",
      " 7   copd                 566602 non-null  int32\n",
      " 8   asthma               566602 non-null  int32\n",
      " 9   inmsupr              566602 non-null  int32\n",
      " 10  hypertension         566602 non-null  int32\n",
      " 11  other_disease        566602 non-null  int32\n",
      " 12  cardiovascular       566602 non-null  int32\n",
      " 13  obesity              566602 non-null  int32\n",
      " 14  renal_chronic        566602 non-null  int32\n",
      " 15  tobacco              566602 non-null  int32\n",
      " 16  contact_other_covid  566602 non-null  int32\n",
      " 17  covid_res            566602 non-null  int32\n",
      " 18  icu                  566602 non-null  int32\n",
      "dtypes: int32(18), int64(1)\n",
      "memory usage: 43.2 MB\n"
     ]
    }
   ],
   "source": [
    "final_df.info()"
   ]
  },
  {
   "cell_type": "code",
   "execution_count": 17,
   "metadata": {},
   "outputs": [
    {
     "data": {
      "text/html": [
       "<div>\n",
       "<style scoped>\n",
       "    .dataframe tbody tr th:only-of-type {\n",
       "        vertical-align: middle;\n",
       "    }\n",
       "\n",
       "    .dataframe tbody tr th {\n",
       "        vertical-align: top;\n",
       "    }\n",
       "\n",
       "    .dataframe thead th {\n",
       "        text-align: right;\n",
       "    }\n",
       "</style>\n",
       "<table border=\"1\" class=\"dataframe\">\n",
       "  <thead>\n",
       "    <tr style=\"text-align: right;\">\n",
       "      <th></th>\n",
       "      <th>sex</th>\n",
       "      <th>patient_type</th>\n",
       "      <th>intubed</th>\n",
       "      <th>pneumonia</th>\n",
       "      <th>age</th>\n",
       "      <th>pregnancy</th>\n",
       "      <th>diabetes</th>\n",
       "      <th>copd</th>\n",
       "      <th>asthma</th>\n",
       "      <th>inmsupr</th>\n",
       "      <th>hypertension</th>\n",
       "      <th>other_disease</th>\n",
       "      <th>cardiovascular</th>\n",
       "      <th>obesity</th>\n",
       "      <th>renal_chronic</th>\n",
       "      <th>tobacco</th>\n",
       "      <th>contact_other_covid</th>\n",
       "      <th>covid_res</th>\n",
       "      <th>icu</th>\n",
       "    </tr>\n",
       "  </thead>\n",
       "  <tbody>\n",
       "    <tr>\n",
       "      <th>0</th>\n",
       "      <td>1</td>\n",
       "      <td>1</td>\n",
       "      <td>1</td>\n",
       "      <td>0</td>\n",
       "      <td>27</td>\n",
       "      <td>1</td>\n",
       "      <td>0</td>\n",
       "      <td>0</td>\n",
       "      <td>0</td>\n",
       "      <td>0</td>\n",
       "      <td>0</td>\n",
       "      <td>0</td>\n",
       "      <td>0</td>\n",
       "      <td>0</td>\n",
       "      <td>0</td>\n",
       "      <td>0</td>\n",
       "      <td>0</td>\n",
       "      <td>2</td>\n",
       "      <td>1</td>\n",
       "    </tr>\n",
       "    <tr>\n",
       "      <th>1</th>\n",
       "      <td>1</td>\n",
       "      <td>1</td>\n",
       "      <td>1</td>\n",
       "      <td>0</td>\n",
       "      <td>24</td>\n",
       "      <td>1</td>\n",
       "      <td>0</td>\n",
       "      <td>0</td>\n",
       "      <td>0</td>\n",
       "      <td>0</td>\n",
       "      <td>0</td>\n",
       "      <td>0</td>\n",
       "      <td>0</td>\n",
       "      <td>0</td>\n",
       "      <td>0</td>\n",
       "      <td>0</td>\n",
       "      <td>1</td>\n",
       "      <td>2</td>\n",
       "      <td>1</td>\n",
       "    </tr>\n",
       "    <tr>\n",
       "      <th>2</th>\n",
       "      <td>0</td>\n",
       "      <td>0</td>\n",
       "      <td>0</td>\n",
       "      <td>0</td>\n",
       "      <td>54</td>\n",
       "      <td>0</td>\n",
       "      <td>0</td>\n",
       "      <td>0</td>\n",
       "      <td>0</td>\n",
       "      <td>0</td>\n",
       "      <td>0</td>\n",
       "      <td>0</td>\n",
       "      <td>0</td>\n",
       "      <td>2</td>\n",
       "      <td>0</td>\n",
       "      <td>0</td>\n",
       "      <td>1</td>\n",
       "      <td>2</td>\n",
       "      <td>0</td>\n",
       "    </tr>\n",
       "    <tr>\n",
       "      <th>3</th>\n",
       "      <td>1</td>\n",
       "      <td>0</td>\n",
       "      <td>0</td>\n",
       "      <td>2</td>\n",
       "      <td>30</td>\n",
       "      <td>1</td>\n",
       "      <td>0</td>\n",
       "      <td>0</td>\n",
       "      <td>0</td>\n",
       "      <td>0</td>\n",
       "      <td>0</td>\n",
       "      <td>0</td>\n",
       "      <td>0</td>\n",
       "      <td>0</td>\n",
       "      <td>0</td>\n",
       "      <td>0</td>\n",
       "      <td>1</td>\n",
       "      <td>2</td>\n",
       "      <td>0</td>\n",
       "    </tr>\n",
       "    <tr>\n",
       "      <th>4</th>\n",
       "      <td>0</td>\n",
       "      <td>0</td>\n",
       "      <td>0</td>\n",
       "      <td>0</td>\n",
       "      <td>60</td>\n",
       "      <td>0</td>\n",
       "      <td>2</td>\n",
       "      <td>0</td>\n",
       "      <td>0</td>\n",
       "      <td>0</td>\n",
       "      <td>2</td>\n",
       "      <td>0</td>\n",
       "      <td>2</td>\n",
       "      <td>0</td>\n",
       "      <td>0</td>\n",
       "      <td>0</td>\n",
       "      <td>1</td>\n",
       "      <td>2</td>\n",
       "      <td>0</td>\n",
       "    </tr>\n",
       "  </tbody>\n",
       "</table>\n",
       "</div>"
      ],
      "text/plain": [
       "   sex  patient_type  intubed  pneumonia  age  pregnancy  diabetes  copd  \\\n",
       "0    1             1        1          0   27          1         0     0   \n",
       "1    1             1        1          0   24          1         0     0   \n",
       "2    0             0        0          0   54          0         0     0   \n",
       "3    1             0        0          2   30          1         0     0   \n",
       "4    0             0        0          0   60          0         2     0   \n",
       "\n",
       "   asthma  inmsupr  hypertension  other_disease  cardiovascular  obesity  \\\n",
       "0       0        0             0              0               0        0   \n",
       "1       0        0             0              0               0        0   \n",
       "2       0        0             0              0               0        2   \n",
       "3       0        0             0              0               0        0   \n",
       "4       0        0             2              0               2        0   \n",
       "\n",
       "   renal_chronic  tobacco  contact_other_covid  covid_res  icu  \n",
       "0              0        0                    0          2    1  \n",
       "1              0        0                    1          2    1  \n",
       "2              0        0                    1          2    0  \n",
       "3              0        0                    1          2    0  \n",
       "4              0        0                    1          2    0  "
      ]
     },
     "execution_count": 17,
     "metadata": {},
     "output_type": "execute_result"
    }
   ],
   "source": [
    "final_df.head()"
   ]
  },
  {
   "cell_type": "code",
   "execution_count": 40,
   "metadata": {},
   "outputs": [],
   "source": [
    "#Lets drop samples with covid test results are as : \"Awaiting Result\"\n",
    "\n",
    "final_df=final_df[(final_df['covid_res']==1) | (final_df['covid_res']==2)]"
   ]
  },
  {
   "cell_type": "code",
   "execution_count": 41,
   "metadata": {},
   "outputs": [
    {
     "name": "stdout",
     "output_type": "stream",
     "text": [
      "(566602, 23)\n",
      "(499692, 19)\n"
     ]
    }
   ],
   "source": [
    "print(df.shape)\n",
    "print(final_df.shape)"
   ]
  },
  {
   "cell_type": "code",
   "execution_count": 42,
   "metadata": {},
   "outputs": [],
   "source": [
    "final_df['covid_res'].replace({2:'Positive',1:'Negative'},inplace=True)\n",
    "final_df['covid_res'].replace({'Positive':1,'Negative':0},inplace=True)\n"
   ]
  },
  {
   "cell_type": "code",
   "execution_count": 43,
   "metadata": {},
   "outputs": [
    {
     "data": {
      "text/html": [
       "<div>\n",
       "<style scoped>\n",
       "    .dataframe tbody tr th:only-of-type {\n",
       "        vertical-align: middle;\n",
       "    }\n",
       "\n",
       "    .dataframe tbody tr th {\n",
       "        vertical-align: top;\n",
       "    }\n",
       "\n",
       "    .dataframe thead th {\n",
       "        text-align: right;\n",
       "    }\n",
       "</style>\n",
       "<table border=\"1\" class=\"dataframe\">\n",
       "  <thead>\n",
       "    <tr style=\"text-align: right;\">\n",
       "      <th></th>\n",
       "      <th>sex</th>\n",
       "      <th>patient_type</th>\n",
       "      <th>intubed</th>\n",
       "      <th>pneumonia</th>\n",
       "      <th>age</th>\n",
       "      <th>pregnancy</th>\n",
       "      <th>diabetes</th>\n",
       "      <th>copd</th>\n",
       "      <th>asthma</th>\n",
       "      <th>inmsupr</th>\n",
       "      <th>hypertension</th>\n",
       "      <th>other_disease</th>\n",
       "      <th>cardiovascular</th>\n",
       "      <th>obesity</th>\n",
       "      <th>renal_chronic</th>\n",
       "      <th>tobacco</th>\n",
       "      <th>contact_other_covid</th>\n",
       "      <th>covid_res</th>\n",
       "      <th>icu</th>\n",
       "    </tr>\n",
       "  </thead>\n",
       "  <tbody>\n",
       "    <tr>\n",
       "      <th>0</th>\n",
       "      <td>1</td>\n",
       "      <td>1</td>\n",
       "      <td>1</td>\n",
       "      <td>0</td>\n",
       "      <td>27</td>\n",
       "      <td>1</td>\n",
       "      <td>0</td>\n",
       "      <td>0</td>\n",
       "      <td>0</td>\n",
       "      <td>0</td>\n",
       "      <td>0</td>\n",
       "      <td>0</td>\n",
       "      <td>0</td>\n",
       "      <td>0</td>\n",
       "      <td>0</td>\n",
       "      <td>0</td>\n",
       "      <td>0</td>\n",
       "      <td>1</td>\n",
       "      <td>1</td>\n",
       "    </tr>\n",
       "    <tr>\n",
       "      <th>1</th>\n",
       "      <td>1</td>\n",
       "      <td>1</td>\n",
       "      <td>1</td>\n",
       "      <td>0</td>\n",
       "      <td>24</td>\n",
       "      <td>1</td>\n",
       "      <td>0</td>\n",
       "      <td>0</td>\n",
       "      <td>0</td>\n",
       "      <td>0</td>\n",
       "      <td>0</td>\n",
       "      <td>0</td>\n",
       "      <td>0</td>\n",
       "      <td>0</td>\n",
       "      <td>0</td>\n",
       "      <td>0</td>\n",
       "      <td>1</td>\n",
       "      <td>1</td>\n",
       "      <td>1</td>\n",
       "    </tr>\n",
       "    <tr>\n",
       "      <th>2</th>\n",
       "      <td>0</td>\n",
       "      <td>0</td>\n",
       "      <td>0</td>\n",
       "      <td>0</td>\n",
       "      <td>54</td>\n",
       "      <td>0</td>\n",
       "      <td>0</td>\n",
       "      <td>0</td>\n",
       "      <td>0</td>\n",
       "      <td>0</td>\n",
       "      <td>0</td>\n",
       "      <td>0</td>\n",
       "      <td>0</td>\n",
       "      <td>2</td>\n",
       "      <td>0</td>\n",
       "      <td>0</td>\n",
       "      <td>1</td>\n",
       "      <td>1</td>\n",
       "      <td>0</td>\n",
       "    </tr>\n",
       "    <tr>\n",
       "      <th>3</th>\n",
       "      <td>1</td>\n",
       "      <td>0</td>\n",
       "      <td>0</td>\n",
       "      <td>2</td>\n",
       "      <td>30</td>\n",
       "      <td>1</td>\n",
       "      <td>0</td>\n",
       "      <td>0</td>\n",
       "      <td>0</td>\n",
       "      <td>0</td>\n",
       "      <td>0</td>\n",
       "      <td>0</td>\n",
       "      <td>0</td>\n",
       "      <td>0</td>\n",
       "      <td>0</td>\n",
       "      <td>0</td>\n",
       "      <td>1</td>\n",
       "      <td>1</td>\n",
       "      <td>0</td>\n",
       "    </tr>\n",
       "    <tr>\n",
       "      <th>4</th>\n",
       "      <td>0</td>\n",
       "      <td>0</td>\n",
       "      <td>0</td>\n",
       "      <td>0</td>\n",
       "      <td>60</td>\n",
       "      <td>0</td>\n",
       "      <td>2</td>\n",
       "      <td>0</td>\n",
       "      <td>0</td>\n",
       "      <td>0</td>\n",
       "      <td>2</td>\n",
       "      <td>0</td>\n",
       "      <td>2</td>\n",
       "      <td>0</td>\n",
       "      <td>0</td>\n",
       "      <td>0</td>\n",
       "      <td>1</td>\n",
       "      <td>1</td>\n",
       "      <td>0</td>\n",
       "    </tr>\n",
       "  </tbody>\n",
       "</table>\n",
       "</div>"
      ],
      "text/plain": [
       "   sex  patient_type  intubed  pneumonia  age  pregnancy  diabetes  copd  \\\n",
       "0    1             1        1          0   27          1         0     0   \n",
       "1    1             1        1          0   24          1         0     0   \n",
       "2    0             0        0          0   54          0         0     0   \n",
       "3    1             0        0          2   30          1         0     0   \n",
       "4    0             0        0          0   60          0         2     0   \n",
       "\n",
       "   asthma  inmsupr  hypertension  other_disease  cardiovascular  obesity  \\\n",
       "0       0        0             0              0               0        0   \n",
       "1       0        0             0              0               0        0   \n",
       "2       0        0             0              0               0        2   \n",
       "3       0        0             0              0               0        0   \n",
       "4       0        0             2              0               2        0   \n",
       "\n",
       "   renal_chronic  tobacco  contact_other_covid  covid_res  icu  \n",
       "0              0        0                    0          1    1  \n",
       "1              0        0                    1          1    1  \n",
       "2              0        0                    1          1    0  \n",
       "3              0        0                    1          1    0  \n",
       "4              0        0                    1          1    0  "
      ]
     },
     "execution_count": 43,
     "metadata": {},
     "output_type": "execute_result"
    }
   ],
   "source": [
    "final_df.head()"
   ]
  },
  {
   "cell_type": "code",
   "execution_count": null,
   "metadata": {},
   "outputs": [],
   "source": [
    "## Train-Test Split\n",
    "x=final_df.drop('covid_res',axis=1)\n",
    "y=final_df['covid_res']\n",
    "x_train,x_test,y_train,y_test=train_test_split(x,y,test_size=0.2,random_state=0)\n",
    "        \n",
    "#Feature Scaling\n",
    "sc=StandardScaler()\n",
    "x_train=sc.fit_transform(x_train)\n",
    "x_test=sc.transform(x_test)\n",
    "    \n",
    "model=LogisticRegression(solver='liblinear')\n",
    "model.fit(x_train,y_train)\n",
    "y_pred=model.predict(x_test)\n",
    "print(\"Accuracy:\",accuracy_score(y_test,y_pred))\n",
    "print(\"Confusion Matrix:\\n\",confusion_matrix(y_test,y_pred))\n",
    "print(\"Classification Report:\\n\",classification_report(y_test,y_pred))\n",
    "\n",
    "cv_score=cross_val_score(model,x,y,cv=20)\n",
    "print(np.mean(cv_score))\n"
   ]
  },
  {
   "cell_type": "markdown",
   "metadata": {},
   "source": [
    "# One-Hot Encoding "
   ]
  },
  {
   "cell_type": "code",
   "execution_count": null,
   "metadata": {},
   "outputs": [],
   "source": [
    "#using one-hot Encoding\n",
    "final_df=df.copy()\n",
    "final_df.drop(['id','entry_date','date_symptoms','date_died'],axis=1,inplace=True)"
   ]
  },
  {
   "cell_type": "code",
   "execution_count": null,
   "metadata": {},
   "outputs": [],
   "source": [
    "#Lets drop samples with covid test results are as : \"Awaiting Result\"\n",
    "final_df['covid_res'].replace({'Positive':1,'Negative':0,'Awaiting Results':2},inplace=True)\n",
    "final_df=final_df[(final_df['covid_res']==1) | (final_df['covid_res']==0)]\n",
    "final_df.info()"
   ]
  },
  {
   "cell_type": "code",
   "execution_count": null,
   "metadata": {},
   "outputs": [],
   "source": [
    "final_df.columns"
   ]
  },
  {
   "cell_type": "code",
   "execution_count": null,
   "metadata": {},
   "outputs": [],
   "source": [
    "final_df=pd.get_dummies(final_df,drop_first=True)\n",
    "final_df.info()"
   ]
  },
  {
   "cell_type": "code",
   "execution_count": null,
   "metadata": {},
   "outputs": [],
   "source": [
    "final_df.head()"
   ]
  },
  {
   "cell_type": "code",
   "execution_count": null,
   "metadata": {},
   "outputs": [],
   "source": [
    "#Train-Test Split\n",
    "x=final_df.drop('covid_res',axis=1)\n",
    "y=final_df['covid_res']\n",
    "x_train,x_test,y_train,y_test=train_test_split(x,y,test_size=0.2,random_state=0)\n",
    "        \n",
    "#Feature Scaling\n",
    "sc=StandardScaler()\n",
    "x_train=sc.fit_transform(x_train)\n",
    "x_test=sc.transform(x_test)\n",
    "    \n",
    "model=LogisticRegression()\n",
    "model.fit(x_train,y_train)\n",
    "y_pred=model.predict(x_test)\n",
    "print(\"Accuracy:\",accuracy_score(y_test,y_pred))\n",
    "print(\"Confusion Matrix:\\n\",confusion_matrix(y_test,y_pred))\n",
    "print(\"Classification Report:\\n\",classification_report(y_test,y_pred))\n",
    "\n",
    "#cross validation\n",
    "cv_score=cross_val_score(model,x,y,cv=20)\n",
    "print(np.mean(cv_score))\n"
   ]
  },
  {
   "cell_type": "code",
   "execution_count": null,
   "metadata": {},
   "outputs": [],
   "source": [
    "model=ExtraTreesRegressor()\n",
    "model.fit(x,y)\n",
    "\n",
    "print(model.feature_importances_)\n",
    "#plot graph to sho feature importance\n",
    "df1=pd.Series(model.feature_importances_,index=x.columns)\n",
    "df1.nlargest(10).plot(kind='barh')\n"
   ]
  },
  {
   "cell_type": "code",
   "execution_count": null,
   "metadata": {},
   "outputs": [],
   "source": [
    "x=final_df[['age','patient_type_Outpatient','contact_other_covid_Not Specified','pneumonia_Yes','hypertension_Yes','diabetes_Yes','obesity_Yes','cardiovascular_Yes','pregnancy_Not Specified','other_disease_Yes']]\n",
    "y=final_df['covid_res']\n",
    "\n",
    "x_train,x_test,y_train,y_test=train_test_split(x,y,test_size=0.2,random_state=0)\n",
    "        \n",
    "#Feature Scaling\n",
    "sc=StandardScaler()\n",
    "x_train=sc.fit_transform(x_train)\n",
    "x_test=sc.transform(x_test)\n",
    "    \n",
    "model=LogisticRegression()\n",
    "model.fit(x_train,y_train)\n",
    "y_pred=model.predict(x_test)\n",
    "print(\"Accuracy:\",accuracy_score(y_test,y_pred))\n",
    "print(\"Confusion Matrix:\\n\",confusion_matrix(y_test,y_pred))\n",
    "print(\"Classification Report:\\n\",classification_report(y_test,y_pred))\n",
    "\n",
    "cv_score=cross_val_score(model,x,y,cv=20)\n",
    "print(np.mean(cv_score))"
   ]
  },
  {
   "cell_type": "markdown",
   "metadata": {},
   "source": [
    "# PCA"
   ]
  },
  {
   "cell_type": "code",
   "execution_count": null,
   "metadata": {},
   "outputs": [],
   "source": [
    "final_df=df.copy()\n",
    "final_df.drop(['id','entry_date','date_symptoms','date_died'],axis=1,inplace=True)\n",
    "#Lets drop samples with covid test results are as : \"Awaiting Result\"\n",
    "final_df['covid_res'].replace({'Positive':1,'Negative':0,'Awaiting Results':2},inplace=True)\n",
    "final_df=final_df[(final_df['covid_res']==1) | (final_df['covid_res']==0)]\n",
    "y=final_df['covid_res']\n",
    "final_df.drop(['covid_res'],axis=1,inplace=True)"
   ]
  },
  {
   "cell_type": "code",
   "execution_count": null,
   "metadata": {},
   "outputs": [],
   "source": [
    "cat_features=final_df.select_dtypes(include='object').columns.tolist()\n",
    "le=LabelEncoder()\n",
    "for col in cat_features:\n",
    "    final_df[col]=le.fit_transform(final_df[col])"
   ]
  },
  {
   "cell_type": "code",
   "execution_count": null,
   "metadata": {},
   "outputs": [],
   "source": [
    "final_df.info()\n",
    "x=final_df.values\n",
    "x.shape\n",
    "y.shape"
   ]
  },
  {
   "cell_type": "code",
   "execution_count": null,
   "metadata": {},
   "outputs": [],
   "source": [
    "from sklearn.decomposition import PCA\n",
    "pca = PCA(n_components=4)\n",
    "principalComponents = pca.fit_transform(x)\n",
    "principalDf = pd.DataFrame(data = principalComponents, columns = ['principal component 1', 'principal component 2','PC3','PC4'])"
   ]
  },
  {
   "cell_type": "code",
   "execution_count": null,
   "metadata": {},
   "outputs": [],
   "source": [
    "principalDf"
   ]
  },
  {
   "cell_type": "code",
   "execution_count": null,
   "metadata": {
    "scrolled": true
   },
   "outputs": [],
   "source": [
    "x = principalDf\n",
    "x_train, x_test, y_train, y_test = train_test_split(x, y, test_size=0.3, random_state=5)\n",
    "\n",
    "    \n",
    "model=LogisticRegression()\n",
    "model.fit(x_train,y_train)\n",
    "y_pred=model.predict(x_test)\n",
    "print(\"Accuracy:\",accuracy_score(y_test,y_pred))\n",
    "print(\"Confusion Matrix:\\n\",confusion_matrix(y_test,y_pred))\n",
    "print(\"Classification Report:\\n\",classification_report(y_test,y_pred))\n",
    "\n",
    "cv_score=cross_val_score(model,x,y,cv=20)\n",
    "print(np.mean(cv_score))"
   ]
  },
  {
   "cell_type": "markdown",
   "metadata": {},
   "source": [
    "# ADABoost"
   ]
  },
  {
   "cell_type": "code",
   "execution_count": null,
   "metadata": {},
   "outputs": [],
   "source": [
    "final_df=df.copy()\n",
    "final_df.drop(['id','entry_date','date_symptoms','date_died'],axis=1,inplace=True)\n",
    "#Lets drop samples with covid test results are as : \"Awaiting Result\"\n",
    "final_df['covid_res'].replace({'Positive':1,'Negative':0,'Awaiting Results':2},inplace=True)\n",
    "final_df=final_df[(final_df['covid_res']==1) | (final_df['covid_res']==0)]\n",
    "y=final_df['covid_res']\n",
    "final_df.drop(['covid_res'],axis=1,inplace=True)\n",
    "cat_features=final_df.select_dtypes(include='object').columns.tolist()\n",
    "le=LabelEncoder()\n",
    "for col in cat_features:\n",
    "    final_df[col]=le.fit_transform(final_df[col])"
   ]
  },
  {
   "cell_type": "code",
   "execution_count": null,
   "metadata": {},
   "outputs": [],
   "source": [
    "from sklearn.ensemble import AdaBoostClassifier\n",
    "from sklearn.tree import DecisionTreeClassifier\n",
    "\n",
    "x=final_df.values\n",
    "x_train, x_test, y_train, y_test = train_test_split(x, y, test_size=0.3, random_state=5)\n",
    "\n",
    "model=AdaBoostClassifier(DecisionTreeClassifier(max_depth=1),n_estimators=200)\n",
    "model.fit(x_train,y_train)\n",
    "y_pred=model.predict(x_test)\n",
    "\n",
    "print (\"Adaboost Accuracy:\",accuracy_score(y_test,y_pred))\n",
    "print(confusion_matrix(y_test,y_pred))\n",
    "print(classification_report(y_test,y_pred))"
   ]
  },
  {
   "cell_type": "code",
   "execution_count": null,
   "metadata": {},
   "outputs": [],
   "source": [
    "cv_score=cross_val_score(model,x,y,cv=20)\n",
    "print(np.mean(cv_score))"
   ]
  },
  {
   "cell_type": "markdown",
   "metadata": {},
   "source": [
    "# GradientBoosting-Classifier with Hyperparameter Tuning\n"
   ]
  },
  {
   "cell_type": "code",
   "execution_count": 13,
   "metadata": {},
   "outputs": [],
   "source": [
    "final_df=df.copy()\n",
    "final_df.drop(['id','patient_type','entry_date','date_symptoms','date_died','intubed','tobacco','icu'],axis=1,inplace=True)\n",
    "#Lets drop samples with covid test results are as : \"Awaiting Result\"\n",
    "final_df['covid_res'].replace({'Positive':1,'Negative':0,'Awaiting Results':2},inplace=True)\n",
    "final_df=final_df[(final_df['covid_res']==1) | (final_df['covid_res']==0)]\n",
    "y=final_df['covid_res']\n",
    "final_df.drop(['covid_res'],axis=1,inplace=True)\n",
    "cat_features=final_df.select_dtypes(include='object').columns.tolist()\n",
    "le=LabelEncoder()\n",
    "for col in cat_features:\n",
    "    final_df[col]=le.fit_transform(final_df[col])\n",
    "x=final_df.values\n",
    "x_train, x_test, y_train, y_test = train_test_split(x, y, test_size=0.3, random_state=0)"
   ]
  },
  {
   "cell_type": "markdown",
   "metadata": {},
   "source": [
    "Parameter Tuning for tree based parameters"
   ]
  },
  {
   "cell_type": "code",
   "execution_count": 15,
   "metadata": {},
   "outputs": [],
   "source": [
    "sc=StandardScaler()\n",
    "x_train=sc.fit_transform(x_train)\n",
    "x_test=sc.transform(x_test)"
   ]
  },
  {
   "cell_type": "code",
   "execution_count": 16,
   "metadata": {},
   "outputs": [
    {
     "name": "stdout",
     "output_type": "stream",
     "text": [
      "GradientBoost Accuracy: 0.633788723750567\n",
      "[[69722 13990]\n",
      " [40908 25288]]\n",
      "              precision    recall  f1-score   support\n",
      "\n",
      "           0       0.63      0.83      0.72     83712\n",
      "           1       0.64      0.38      0.48     66196\n",
      "\n",
      "    accuracy                           0.63    149908\n",
      "   macro avg       0.64      0.61      0.60    149908\n",
      "weighted avg       0.64      0.63      0.61    149908\n",
      "\n"
     ]
    }
   ],
   "source": [
    "model = GradientBoostingClassifier()\n",
    "model.fit(x_train,y_train)\n",
    "y_pred=model.predict(x_test)\n",
    "\n",
    "print (\"GradientBoost Accuracy:\",accuracy_score(y_test,y_pred))\n",
    "print(confusion_matrix(y_test,y_pred))\n",
    "print(classification_report(y_test,y_pred))"
   ]
  },
  {
   "cell_type": "code",
   "execution_count": 17,
   "metadata": {},
   "outputs": [
    {
     "name": "stdout",
     "output_type": "stream",
     "text": [
      "Pickle File created at C:\\Users\\om\\Healthcare-Covd19-Risk-Analysis\\new covid data\\assets\\covid_pickle.pkl\n"
     ]
    }
   ],
   "source": [
    "pickle_path=os.path.join(current_path,\"assets\",\"covid_pickle.pkl\")\n",
    "\n",
    "with open(pickle_path, \"wb\") as f:\n",
    "    pickle.dump(model, f)\n",
    "print(\"Pickle File created at {}\".format(pickle_path))\n"
   ]
  },
  {
   "cell_type": "code",
   "execution_count": 19,
   "metadata": {},
   "outputs": [
    {
     "data": {
      "text/plain": [
       "array([0, 2, 1])"
      ]
     },
     "execution_count": 19,
     "metadata": {},
     "output_type": "execute_result"
    }
   ],
   "source": [
    "final_df.pneumonia.unique()"
   ]
  }
 ],
 "metadata": {
  "kernelspec": {
   "display_name": "Python 3",
   "language": "python",
   "name": "python3"
  },
  "language_info": {
   "codemirror_mode": {
    "name": "ipython",
    "version": 3
   },
   "file_extension": ".py",
   "mimetype": "text/x-python",
   "name": "python",
   "nbconvert_exporter": "python",
   "pygments_lexer": "ipython3",
   "version": "3.7.4"
  }
 },
 "nbformat": 4,
 "nbformat_minor": 2
}
